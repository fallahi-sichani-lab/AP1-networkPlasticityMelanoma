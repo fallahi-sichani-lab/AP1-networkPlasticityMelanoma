{
 "cells": [
  {
   "cell_type": "markdown",
   "id": "6d734546",
   "metadata": {},
   "source": [
    "# Partial Least Squares Model of Differentiation Signatures using Expression of Transcription Factor Genes"
   ]
  },
  {
   "cell_type": "markdown",
   "id": "71fb82c8-3fb8-43e9-916e-4b97bc05031b",
   "metadata": {},
   "source": [
    "Natacha Comandante-Lou"
   ]
  },
  {
   "cell_type": "markdown",
   "id": "2469a7af-83d8-420f-96d3-af32b1c400ad",
   "metadata": {},
   "source": [
    "Nov, 2021"
   ]
  },
  {
   "cell_type": "markdown",
   "id": "364c4f68-8cac-4d8c-a316-d764926e31b1",
   "metadata": {},
   "source": [
    "_Data source:_"
   ]
  },
  {
   "cell_type": "markdown",
   "id": "8660a575-2b13-4170-acab-a7cb627fd1e3",
   "metadata": {},
   "source": [
    "Tsoi, J., Robert, L., Paraiso, K., Galvan, C., Sheu, K. M., Lay, J., Wong, D., Atefi, M., Shirazi, R., Wang, X., Braas, D., Grasso, C. S., Palaskas, N., Ribas, A., & Graeber, T. G. (2018). Multi-stage Differentiation Defines Melanoma Subtypes with Differential Vulnerability to Drug-Induced Iron-Dependent Oxidative Stress. Cancer cell, 33(5), 890–904.e5. https://doi.org/10.1016/j.ccell.2018.03.017"
   ]
  },
  {
   "cell_type": "markdown",
   "id": "f45dec43",
   "metadata": {},
   "source": [
    "## 1. Read data"
   ]
  },
  {
   "cell_type": "code",
   "execution_count": 1,
   "id": "5e6eb584",
   "metadata": {},
   "outputs": [],
   "source": [
    "import pandas as pd\n",
    "import numpy as np\n",
    "\n",
    "log2fpkm = pd.read_csv('Tsoi_log2_GSE80829_FPKM.csv').rename({'Gene':'cell_line_id'},axis = 1).set_index('cell_line_id').T\n",
    "log2fpkm['cell_line'] = log2fpkm.index.str.replace('_DMSO','')\n",
    "log2fpkm.reset_index(drop=True,inplace=True)\n",
    "\n",
    "metadata = pd.read_csv('Tsoi_GSE80829_metadata.csv')\n",
    "\n",
    "#Create a single dataframe\n",
    "df = pd.merge(metadata,log2fpkm,on=\"cell_line\")\n",
    "df.cell_type = pd.Series(df[\"cell_type\"], dtype=\"category\").cat.reorder_categories(['Melanocytic','Transitory','Neural crest like','Undifferentiated'])\n",
    "\n",
    "del log2fpkm, metadata"
   ]
  },
  {
   "cell_type": "markdown",
   "id": "0f2c6036",
   "metadata": {},
   "source": [
    "* #### List of TF genes\n"
   ]
  },
  {
   "cell_type": "code",
   "execution_count": 2,
   "id": "5b3eb1f6",
   "metadata": {
    "tags": []
   },
   "outputs": [
    {
     "name": "stdout",
     "output_type": "stream",
     "text": [
      "Number of TFs:  1839\n",
      "1817 TFs are in the gene list\n"
     ]
    }
   ],
   "source": [
    "tf_names = pd.read_csv('hs_hgnc_tfs.txt',delimiter = \"\\n\",header=None)\n",
    "tf_names.columns = ['Gene']\n",
    "print(\"Number of TFs: \",len(tf_names))\n",
    "all_genes = pd.DataFrame({\"Gene\":df.columns[9:]})\n",
    "tf_names = tf_names[tf_names['Gene'].isin(all_genes[\"Gene\"])]\n",
    "print(len(tf_names),\"TFs are in the gene list\")"
   ]
  },
  {
   "cell_type": "markdown",
   "id": "25a919b6",
   "metadata": {},
   "source": [
    "* #### List of differentiation signature genes from Tsoi et al.\n"
   ]
  },
  {
   "cell_type": "code",
   "execution_count": 3,
   "id": "548c3a87",
   "metadata": {},
   "outputs": [
    {
     "data": {
      "text/plain": [
       "0         AJUBA\n",
       "1         TOR4A\n",
       "2        MARCH4\n",
       "3        ZDHHC2\n",
       "4        ZNF467\n",
       "         ...   \n",
       "526       ABCB5\n",
       "527      APOLD1\n",
       "528    ANKRD30B\n",
       "529       ADCY2\n",
       "530      ADAM23\n",
       "Name: Gene, Length: 531, dtype: object"
      ]
     },
     "execution_count": 3,
     "metadata": {},
     "output_type": "execute_result"
    }
   ],
   "source": [
    "sig_genes = pd.read_csv('sig_genes.csv')\n",
    "sig_names = sig_genes['Gene']\n",
    "sig_names"
   ]
  },
  {
   "cell_type": "markdown",
   "id": "012a4bed",
   "metadata": {},
   "source": [
    "* #### Selected AP-1s based on VIP scores (|VIP|>1)"
   ]
  },
  {
   "cell_type": "code",
   "execution_count": 8,
   "id": "6cbf8286",
   "metadata": {},
   "outputs": [],
   "source": [
    "selected_ap1s = [\"FOS\",\"FOSL1\",\"FOSL2\",\"JUN\",\"JUNB\",\"JUND\",\"ATF2\",\"ATF4\"]"
   ]
  },
  {
   "cell_type": "markdown",
   "id": "81e737aa",
   "metadata": {},
   "source": [
    "* #### Create list for TF set minus AP-1 set and signature gene set"
   ]
  },
  {
   "cell_type": "code",
   "execution_count": 9,
   "id": "58d66bac",
   "metadata": {},
   "outputs": [
    {
     "name": "stdout",
     "output_type": "stream",
     "text": [
      "Using 1756 TFs, which are not in the signature gene list\n"
     ]
    }
   ],
   "source": [
    "tf_no_ap1_names = list(set(list(tf_names['Gene']))-set(ap1_names))\n",
    "tf_no_ap1_no_sig_names = list(set(tf_no_ap1_names)-set(sig_names.to_list()))\n",
    "print(\"Using\", len(tf_no_ap1_no_sig_names),\"TFs, which are not in the signature gene list\")"
   ]
  },
  {
   "cell_type": "markdown",
   "id": "82af00b8",
   "metadata": {},
   "source": [
    "## 2. Set up PLSR pipeline"
   ]
  },
  {
   "cell_type": "code",
   "execution_count": 10,
   "id": "4d997536",
   "metadata": {},
   "outputs": [],
   "source": [
    "from sklearn.pipeline import make_pipeline, Pipeline\n",
    "from sklearn.preprocessing import StandardScaler\n",
    "from sklearn.cross_decomposition import PLSRegression\n",
    "from sklearn.model_selection import GridSearchCV\n",
    "from sklearn.model_selection import cross_validate, cross_val_score\n",
    "from sklearn.model_selection import ShuffleSplit, StratifiedShuffleSplit\n",
    "from sklearn.metrics import mean_squared_error, r2_score, explained_variance_score\n",
    "from sklearn.model_selection import LeaveOneOut\n",
    "import matplotlib.pyplot as plt"
   ]
  },
  {
   "cell_type": "markdown",
   "id": "c27548f7",
   "metadata": {},
   "source": [
    "* #### PLSR function"
   ]
  },
  {
   "cell_type": "code",
   "execution_count": 11,
   "id": "89036edb",
   "metadata": {
    "tags": []
   },
   "outputs": [],
   "source": [
    "def run_plsr(df,selected_factors,seed_id,n_splits,val_size):\n",
    " \n",
    "    print('selected factors: ', selected_factors)\n",
    "    df_selected = df[np.concatenate([metadata_columns,selected_factors])]\n",
    "\n",
    "    X = df_selected.drop(metadata_columns,axis = 1,inplace=False)\n",
    "    Y = df_selected[metadata_columns[2:]]\n",
    "    # Create Pipeline\n",
    "    pipe = Pipeline([('Scale', StandardScaler()),\n",
    "                 ('PLS', PLSRegression(max_iter=1000))])\n",
    "    # Create CV folds\n",
    "    ymat = np.tile(np.transpose(df_selected.cell_type.cat.codes.to_numpy()), (Y.shape[1],1)).T\n",
    "    sss = StratifiedShuffleSplit(n_splits=n_splits, test_size=val_size, random_state=seed_id)\n",
    "    \n",
    "    # Optimal Parameter Search\n",
    "    param_grid = {'PLS__n_components': np.arange(len(selected_factors))+1,}\n",
    "    search = GridSearchCV(pipe, param_grid, cv=sss.split(X,ymat)).fit(X, Y)\n",
    "\n",
    "    # Cross Validation Results\n",
    "    scoring = ['r2','explained_variance','neg_mean_squared_error']\n",
    "    cv_results = cross_validate(search.best_estimator_, X, Y, cv=sss.split(X,ymat),scoring = scoring,return_train_score=True)\n",
    "    \n",
    "    ## output mean cv_results\n",
    "    cv_results_stats = dict()\n",
    "    cv_results_stats['train_r2_mean'] = cv_results['train_r2'].mean()\n",
    "    cv_results_stats['test_r2_mean'] = cv_results['test_r2'].mean()\n",
    "    cv_results_stats['train_explained_variance_mean'] = cv_results['train_explained_variance'].mean()\n",
    "    cv_results_stats['test_explained_variance_mean'] = cv_results['test_explained_variance'].mean()\n",
    "    cv_results_stats['train_neg_mean_squared_error_mean'] = cv_results['train_neg_mean_squared_error'].mean()\n",
    "    cv_results_stats['test_neg_mean_squared_error_mean'] = cv_results['test_neg_mean_squared_error'].mean()\n",
    "    \n",
    "    cv_results_stats['train_r2_std'] = cv_results['train_r2'].std()\n",
    "    cv_results_stats['test_r2_std'] = cv_results['test_r2'].std()\n",
    "    cv_results_stats['train_explained_variance_std'] = cv_results['train_explained_variance'].std()\n",
    "    cv_results_stats['test_explained_variance_std'] = cv_results['test_explained_variance'].std()\n",
    "    cv_results_stats['train_neg_mean_squared_error_std'] = cv_results['train_neg_mean_squared_error'].std()\n",
    "    cv_results_stats['test_neg_mean_squared_error_std'] = cv_results['test_neg_mean_squared_error'].std()\n",
    "    \n",
    "\n",
    "    return cv_results_stats\n"
   ]
  },
  {
   "cell_type": "code",
   "execution_count": 12,
   "id": "fb514737",
   "metadata": {},
   "outputs": [],
   "source": [
    "#input-----\n",
    "n_iter =500000 #number of iterations\n",
    "seed_id = 235 #for sss\n",
    "n_splits = 20 #number of splitting iterations in cross validation (CV)\n",
    "val_size = 0.1 #test data/validation set size\n"
   ]
  },
  {
   "cell_type": "markdown",
   "id": "c2a8fe6d",
   "metadata": {},
   "source": [
    "## 3. Iterate pipeline for randomly selected sets of TF (excluding AP-1 and signature genes)"
   ]
  },
  {
   "cell_type": "markdown",
   "id": "fb399490",
   "metadata": {},
   "source": [
    "* #### Function for generating random combinations "
   ]
  },
  {
   "cell_type": "code",
   "execution_count": 13,
   "id": "0336a0c9",
   "metadata": {},
   "outputs": [],
   "source": [
    "import random\n",
    "import itertools\n",
    "def random_combination(iterable, r):\n",
    "    \"Random selection from itertools.combinations(iterable, r)\"\n",
    "    pool = tuple(iterable)\n",
    "    n = len(pool)\n",
    "    indices = sorted(random.sample(range(n), r))\n",
    "    return tuple(pool[i] for i in indices)\n"
   ]
  },
  {
   "cell_type": "markdown",
   "id": "4d670993",
   "metadata": {},
   "source": [
    "* #### Iterate using multiple pools (Main)"
   ]
  },
  {
   "cell_type": "code",
   "execution_count": 14,
   "id": "a10cf899",
   "metadata": {},
   "outputs": [],
   "source": [
    "# n choose r\n",
    "n = len(tf_no_ap1_no_sig_names)\n",
    "r = len(selected_ap1s)\n",
    "\n",
    "metadata_columns = ['cell_line','cell_type','M_score','MT_score','T_score','TN_score','N_score','NU_score','U_score']\n"
   ]
  },
  {
   "cell_type": "code",
   "execution_count": null,
   "id": "0699c4d7",
   "metadata": {},
   "outputs": [],
   "source": [
    "from multiprocessing.pool import Pool\n",
    "from multiprocessing import current_process, Process\n",
    "#import multiprocessing\n",
    "from time import time\n",
    "import random\n",
    "\n",
    "\n",
    "random.seed(seed_id) #for random combination\n",
    "\n",
    "\n",
    "# iter function\n",
    "def myf(_):\n",
    "\n",
    "    created = Process()\n",
    "    current = current_process()\n",
    "    print('running:', current.name, current._identity)\n",
    "    print('created:', created.name, created._identity)\n",
    "    selected_factors = np.array(tf_no_ap1_no_sig_names)[np.asarray(random_combination(range(n), r))]\n",
    "    \n",
    "    results= run_plsr(df,selected_factors,seed_id,n_splits,val_size)\n",
    "    return [results, selected_factors]\n",
    "\n",
    "pool = Pool(30)\n",
    "tic_fwd = time()\n",
    "results, selected_factors = zip(*pool.map(myf, range(n_iter)))\n",
    "toc_fwd = time()\n",
    "print(f\"Done in {toc_fwd - tic_fwd:.3f}s\")\n",
    "#pool.close()\n",
    "\n"
   ]
  },
  {
   "cell_type": "code",
   "execution_count": 16,
   "id": "cdcd2d44",
   "metadata": {},
   "outputs": [],
   "source": [
    "#Save Results\n",
    "df_results = pd.DataFrame.from_dict(results)\n",
    "df_results['selected_factors'] = selected_factors\n",
    "\n",
    "df_results.to_csv(f'seed{seed_id}_cv_{val_size}_nsplit{n_splits}_iter{n_iter}_results.csv')"
   ]
  },
  {
   "cell_type": "markdown",
   "id": "7eae2fd9",
   "metadata": {},
   "source": [
    "## 4. AP-1 PLSR"
   ]
  },
  {
   "cell_type": "code",
   "execution_count": 17,
   "id": "b535203c",
   "metadata": {},
   "outputs": [
    {
     "name": "stdout",
     "output_type": "stream",
     "text": [
      "selected factors:  ['FOS', 'FOSL1', 'FOSL2', 'JUN', 'JUNB', 'JUND', 'ATF2', 'ATF4']\n"
     ]
    }
   ],
   "source": [
    "results_ap1= run_plsr(df,selected_ap1s,seed_id,n_splits,val_size)\n",
    "\n",
    "#Save Results\n",
    "df_results_ap1 = pd.DataFrame(results_ap1,index=[0])\n",
    "df_results_ap1['selected_factors'] = [selected_ap1s]\n",
    "df_results_ap1.to_csv(f'seed{seed_id}_cv_{val_size}_nsplit{n_splits}_iter{n_iter}_AP-1_results.csv')"
   ]
  },
  {
   "cell_type": "code",
   "execution_count": 1,
   "id": "2ea1f2a8",
   "metadata": {
    "tags": []
   },
   "outputs": [
    {
     "name": "stdout",
     "output_type": "stream",
     "text": [
      "Empirical P-value: 0.011444\n"
     ]
    },
    {
     "data": {
      "image/png": "[encoded data removed]",
      "text/plain": [
       "<Figure size 600x300 with 1 Axes>"
      ]
     },
     "metadata": {
      "needs_background": "light"
     },
     "output_type": "display_data"
    }
   ],
   "source": [
    "import pandas as pd\n",
    "import seaborn as sns\n",
    "import matplotlib.pyplot as plt\n",
    "import warnings\n",
    "from IPython.display import set_matplotlib_formats\n",
    "set_matplotlib_formats('retina')\n",
    "#Input-----------------\n",
    "n_iter =500000\n",
    "seed_id = 235 #for sss\n",
    "n_splits = 20\n",
    "val_size = 0.1\n",
    "r = 8\n",
    "#Read------------------\n",
    "df_results = pd.read_csv(f'seed{seed_id}_cv_{val_size}_nsplit{n_splits}_iter{n_iter}_results.csv')\n",
    "df_results_ap1 = pd.read_csv(f'seed{seed_id}_cv_{val_size}_nsplit{n_splits}_iter{n_iter}_AP-1_results.csv')\n",
    "\n",
    "metrics = 'test_explained_variance_mean'\n",
    "c = (df_results[metrics]>df_results_ap1[metrics][0]).sum()\n",
    "emp_pval = c/n_iter #calculate empirical p-value\n",
    "print('Empirical P-value:',emp_pval)\n",
    "\n",
    "#Plot------------------\n",
    "%matplotlib inline\n",
    "warnings.filterwarnings(\"ignore\")\n",
    "fig, ax = plt.subplots(figsize=(3,1.5),dpi = 200)\n",
    "\n",
    "sns.distplot(df_results[metrics].to_numpy(),color='xkcd:azure',bins=500)\n",
    "plt.text(1.1,0, f'seed id: {seed_id}\\ncv size: {val_size}\\nniter: {n_iter}\\nnfactor: {r}\\nempirical p-val:{emp_pval}', \n",
    "         horizontalalignment='left', size='small', color='gray')\n",
    "plt.axvline(x=df_results_ap1[metrics].to_numpy(),c='xkcd:tomato')\n",
    "plt.xlabel(metrics)\n",
    "plt.xlim(-1,1)\n",
    "plt.title(\"TF PLSR Model Performance Distribution\")\n",
    "plt.savefig(f'TF_PLSR_Model_{metrics}_Distribution.pdf', format='pdf')\n"
   ]
  },
  {
   "cell_type": "code",
   "execution_count": null,
   "id": "da003471",
   "metadata": {},
   "outputs": [],
   "source": []
  }
 ],
 "metadata": {
  "kernelspec": {
   "display_name": "Python 3.10 (XPython)",
   "language": "python",
   "name": "xpython"
  },
  "language_info": {
   "file_extension": ".py",
   "mimetype": "text/x-python",
   "name": "python",
   "version": "3.10.0"
  },
  "widgets": {
   "application/vnd.jupyter.widget-state+json": {
    "state": {},
    "version_major": 2,
    "version_minor": 0
   }
  }
 },
 "nbformat": 4,
 "nbformat_minor": 5
}
